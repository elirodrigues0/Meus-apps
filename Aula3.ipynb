{
  "nbformat": 4,
  "nbformat_minor": 0,
  "metadata": {
    "colab": {
      "provenance": [],
      "authorship_tag": "ABX9TyNPzuU5MwjXqmOxHOnMqr47",
      "include_colab_link": true
    },
    "kernelspec": {
      "name": "python3",
      "display_name": "Python 3"
    },
    "language_info": {
      "name": "python"
    }
  },
  "cells": [
    {
      "cell_type": "markdown",
      "metadata": {
        "id": "view-in-github",
        "colab_type": "text"
      },
      "source": [
        "<a href=\"https://colab.research.google.com/github/elirodrigues0/Meus-apps/blob/master/Aula3.ipynb\" target=\"_parent\"><img src=\"https://colab.research.google.com/assets/colab-badge.svg\" alt=\"Open In Colab\"/></a>"
      ]
    },
    {
      "cell_type": "markdown",
      "source": [
        "Condicional simples"
      ],
      "metadata": {
        "id": "SLRY0ni_rNkN"
      }
    },
    {
      "cell_type": "code",
      "execution_count": null,
      "metadata": {
        "id": "rEzQcs6qq4ye"
      },
      "outputs": [],
      "source": [
        "# Lê dois valores inteiros e compara ambos\n",
        "x = int(input('Digite um valor inteiro: '))\n",
        "y = int(input('Digite um segundo valor inteiro: '))\n",
        "if (x > y):\n",
        "  print('O primeiro valor é maior que o segundo!')"
      ]
    },
    {
      "cell_type": "markdown",
      "source": [
        "Condicional composta"
      ],
      "metadata": {
        "id": "GZmqxxVxtvrA"
      }
    },
    {
      "cell_type": "code",
      "source": [
        "# par ou ímpar\n",
        "x = int(input('Digite um valor inteiro: '))\n",
        "if (x % 2 == 0):\n",
        "  print('O número é par!')\n",
        "else:\n",
        "  print('O número é ímpar!')"
      ],
      "metadata": {
        "id": "1N3rjH_At0dm"
      },
      "execution_count": null,
      "outputs": []
    },
    {
      "cell_type": "markdown",
      "source": [
        "EXPRESSÕES LÓGICAS E ALGEBRA BOOLEANA"
      ],
      "metadata": {
        "id": "t05YBZoPw4R-"
      }
    },
    {
      "cell_type": "markdown",
      "source": [
        "Operadores lógicos/booleanos"
      ],
      "metadata": {
        "id": "oXCt1eJVxGeH"
      }
    },
    {
      "cell_type": "code",
      "source": [
        "# not\n",
        "x = True\n",
        "y = False\n",
        "print(not x)\n",
        "print(not y)"
      ],
      "metadata": {
        "id": "0tv1njWaxNBL"
      },
      "execution_count": null,
      "outputs": []
    },
    {
      "cell_type": "code",
      "source": [
        "# and \n",
        "x = True\n",
        "y = False\n",
        "print(x and y)"
      ],
      "metadata": {
        "id": "6GRnOwBOxd62"
      },
      "execution_count": null,
      "outputs": []
    },
    {
      "cell_type": "code",
      "source": [
        "# or \n",
        "x = True\n",
        "y = False\n",
        "print(x or y)"
      ],
      "metadata": {
        "id": "KaxlqzPVx-ri"
      },
      "execution_count": null,
      "outputs": []
    },
    {
      "cell_type": "markdown",
      "source": [
        "Expressões lógicas/booleanas"
      ],
      "metadata": {
        "id": "De5Oh81WzGbK"
      }
    },
    {
      "cell_type": "code",
      "source": [
        "x = 10\n",
        "y = 1\n",
        "res = not x > y \n",
        "print(res)"
      ],
      "metadata": {
        "id": "ZtS_VIlSzNEZ"
      },
      "execution_count": null,
      "outputs": []
    },
    {
      "cell_type": "code",
      "source": [
        "x = 10\n",
        "y = 1\n",
        "z =5.5\n",
        "res = x > y and z == y \n",
        "print(res)"
      ],
      "metadata": {
        "id": "bdsjRECRzlW0"
      },
      "execution_count": null,
      "outputs": []
    },
    {
      "cell_type": "markdown",
      "source": [
        "Exercícios"
      ],
      "metadata": {
        "id": "4-5Akq4R0hR7"
      }
    },
    {
      "cell_type": "code",
      "source": [
        "# Exercício 3.3.1\n",
        "m1 = float(input('Digite a nota da 1ª matéria:'))\n",
        "m2 = float(input('Digite a nota da 2ª matéria:'))\n",
        "m3 = float(input('Digite a nota da 3ª matéria:'))\n",
        "if m1 >= 7 and m2 >= 7 and m3 >= 7:\n",
        "  print('O aluno está aprovado de ano!');\n",
        "else:\n",
        "  print('O aluno não passou de ano!');\n",
        "  print('Larga de preguiça e vá estudar jovem!');"
      ],
      "metadata": {
        "id": "ctKh6AM_0jki"
      },
      "execution_count": null,
      "outputs": []
    },
    {
      "cell_type": "code",
      "source": [
        "# Exercício 4.1.1\n",
        "print('Escolha o que deseja comprar:')\n",
        "print('1 - Maça')\n",
        "print('2 - Laranja')\n",
        "print('3 - Banana')\n",
        "produto = int(input('Qual sua escolha?'))\n",
        "qtd = int(input('Quantas unidades?'))\n",
        "if (produto == 1):\n",
        "  pagar = qtd * 2.3\n",
        "  print('Você comprou {} maças. Total à pagar: R${}'.format(qtd, pagar))\n",
        "else:\n",
        "    if(produto == 2):\n",
        "      pagar = qtd * 3.6\n",
        "      print('Você comprou {} laranjas. Total à pagar: R${}'.format(qtd, pagar))\n",
        "    else:\n",
        "       if(produto == 3):\n",
        "         pagar = qtd * 1.85\n",
        "         print('Você comprou {} bananas. Total à pagar: R${}'.format(qtd, pagar))\n",
        "       else:\n",
        "         print('Produto inexistente!')  \n"
      ],
      "metadata": {
        "colab": {
          "base_uri": "https://localhost:8080/"
        },
        "id": "I99RhtBs5KU4",
        "outputId": "5548ce45-1386-4f5d-9fe2-743a36431d08"
      },
      "execution_count": 24,
      "outputs": [
        {
          "output_type": "stream",
          "name": "stdout",
          "text": [
            "Escolha o que deseja comprar:\n",
            "1 - Maça\n",
            "2 - Laranja\n",
            "3 - Banana\n",
            "Qual sua escolha?2\n",
            "Quantas unidades?60\n",
            "Você comprou 60 laranjas. Total à pagar: R$216.0\n"
          ]
        }
      ]
    }
  ]
}